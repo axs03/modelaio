{
 "cells": [
  {
   "cell_type": "code",
   "execution_count": 1,
   "id": "e97b22ff",
   "metadata": {},
   "outputs": [
    {
     "name": "stderr",
     "output_type": "stream",
     "text": [
      "/Users/amansahu/miniconda3/envs/modelo/lib/python3.12/site-packages/tqdm/auto.py:21: TqdmWarning: IProgress not found. Please update jupyter and ipywidgets. See https://ipywidgets.readthedocs.io/en/stable/user_install.html\n",
      "  from .autonotebook import tqdm as notebook_tqdm\n"
     ]
    }
   ],
   "source": [
    "from SimilarityModel import SimilarityModel\n",
    "from ResponseProcessor import ResponseProcessor"
   ]
  },
  {
   "cell_type": "code",
   "execution_count": 2,
   "id": "0d65c07a",
   "metadata": {},
   "outputs": [],
   "source": [
    "sent1 = \"\"\"\n",
    "Binary numbers are a way of representing values using only two digits: 0 and 1. This is known as **base-2**, unlike our familiar decimal system, which is base-10 and uses digits from 0 to 9. In binary, each digit (called a *bit*) represents a power of two, with the rightmost bit being 2⁰, the next one 2¹, then 2², and so on. For example, the binary number `1011` represents the decimal number 11 because it equals $1 \\times 2^3 + 0 \\times 2^2 + 1 \\times 2^1 + 1 \\times 2^0 = 8 + 0 + 2 + 1$.\n",
    "\n",
    "Binary is especially useful in computing because digital electronics can easily represent two states: on/off, high/low voltage, or true/false. These two states naturally correspond to the digits 1 and 0. Because of this simplicity, all data in computers — numbers, text, images, and even video — is ultimately stored and processed in binary form.\n",
    "\n",
    "Beyond storage and processing, binary numbers are also crucial in programming, encryption, networking (like IP addresses), and error detection. They allow for precise, efficient, and reliable operation at the hardware level, making them the foundation of all modern digital technology.\n",
    "\"\"\"\n",
    "\n",
    "sent2 = \"\"\"\n",
    "Binary numbers are a base-2 numbering system, using only two digits: **0** and **1**. Each digit represents a power of 2, much like each digit in decimal (base-10) represents a power of 10. For example, the binary number **1011** translates to:  \n",
    "(1 × 2³) + (0 × 2²) + (1 × 2¹) + (1 × 2⁰) = **11** in decimal.  \n",
    "\n",
    "Binary is fundamental in computing because digital electronics (like CPUs and memory) operate using **on/off states** (represented by 1 and 0). This simplicity allows reliable processing, storage, and transmission of data. All complex operations—math, text, images, and programs—are ultimately broken down into binary for computers to execute efficiently.  \n",
    "\n",
    "Beyond hardware, binary enables **Boolean logic** (AND, OR, NOT), which underpins programming, cryptography, and data compression. Its efficiency in representing logical states makes it indispensable in technology.\"\"\""
   ]
  },
  {
   "cell_type": "code",
   "execution_count": 3,
   "id": "0fec7795",
   "metadata": {},
   "outputs": [
    {
     "name": "stdout",
     "output_type": "stream",
     "text": [
      "Model loaded successfully\n",
      "Cosine similarities:\n",
      "0.9299017\n"
     ]
    }
   ],
   "source": [
    "similarity_model = SimilarityModel()\n",
    "similarity_model.get_cosine_similarity(sentence1=sent1, sentence2=sent2)"
   ]
  }
 ],
 "metadata": {
  "kernelspec": {
   "display_name": "modelo",
   "language": "python",
   "name": "python3"
  },
  "language_info": {
   "codemirror_mode": {
    "name": "ipython",
    "version": 3
   },
   "file_extension": ".py",
   "mimetype": "text/x-python",
   "name": "python",
   "nbconvert_exporter": "python",
   "pygments_lexer": "ipython3",
   "version": "3.12.9"
  }
 },
 "nbformat": 4,
 "nbformat_minor": 5
}
