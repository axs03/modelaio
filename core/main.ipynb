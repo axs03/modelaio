{
 "cells": [
  {
   "cell_type": "code",
   "execution_count": 1,
   "id": "e97b22ff",
   "metadata": {},
   "outputs": [
    {
     "name": "stderr",
     "output_type": "stream",
     "text": [
      "/Users/amansahu/miniconda3/envs/modelo/lib/python3.12/site-packages/tqdm/auto.py:21: TqdmWarning: IProgress not found. Please update jupyter and ipywidgets. See https://ipywidgets.readthedocs.io/en/stable/user_install.html\n",
      "  from .autonotebook import tqdm as notebook_tqdm\n"
     ]
    }
   ],
   "source": [
    "from SimilarityModel import SimilarityModel\n",
    "from ModelControllers import LLMControllerDSPy\n",
    "# from ModelControllers import LLMController"
   ]
  },
  {
   "cell_type": "code",
   "execution_count": 4,
   "id": "488ccad4",
   "metadata": {},
   "outputs": [],
   "source": [
    "prompt = \"write a poem about birds.\""
   ]
  },
  {
   "cell_type": "markdown",
   "id": "7d227d25",
   "metadata": {},
   "source": [
    "## Legacy Call"
   ]
  },
  {
   "cell_type": "code",
   "execution_count": null,
   "id": "c35afb75",
   "metadata": {},
   "outputs": [],
   "source": [
    "# for ChatGPT\n",
    "oai = LLMController(provider=\"openai\")\n",
    "sent1 = oai.get_response(prompt)\n",
    "\n",
    "# for DeepSeek\n",
    "ds = LLMController(provider=\"deepseek\")\n",
    "sent2 = ds.get_response(prompt)\n",
    "\n",
    "print(\"ChatGPT response:\", sent1)\n",
    "print(\"DeepSeek response:\", sent2)"
   ]
  },
  {
   "cell_type": "code",
   "execution_count": null,
   "id": "0fec7795",
   "metadata": {},
   "outputs": [],
   "source": [
    "similarity_model = SimilarityModel()\n",
    "similarity_model.get_cosine_similarity([sent1, sent2])"
   ]
  },
  {
   "cell_type": "markdown",
   "id": "3ec5022a",
   "metadata": {},
   "source": [
    "## New Calling w/ DSPy"
   ]
  },
  {
   "cell_type": "code",
   "execution_count": 5,
   "id": "38a45c30",
   "metadata": {},
   "outputs": [
    {
     "name": "stdout",
     "output_type": "stream",
     "text": [
      "Response from openai/gpt-4o-mini:\n",
      "[\"In the morning light, they take to the skies,  \\nWith feathers like whispers, where freedom lies.  \\nA symphony of colors, a dance in the air,  \\nEach note a reminder of beauty so rare.  \\n\\nFrom the lark's gentle trill at the break of the dawn,  \\nTo the hawk's soaring grace as it glides over lawn,  \\nThey weave through the branches, in harmony play,  \\nNature's own chorus, in vibrant display.  \\n\\nThe sparrow, so humble, with a heart full of song,  \\nFinds joy in the simple, where it feels it belongs.  \\nWhile the peacock, resplendent, with a tail like a dream,  \\nStruts proudly in sunlight, a shimmering beam.  \\n\\nIn the hush of the twilight, the owls softly call,  \\nGuardians of secrets, they watch over all.  \\nWith wisdom in silence, they glide through the night,  \\nA tapestry woven of shadow and light.  \\n\\nOh, the birds of the world, in their flight so divine,  \\nRemind us of freedom, of life’s grand design.  \\nSo let us look up, let our spirits take wing,  \\nFor in the heart of a bird, there’s a song to sing.  \"]\n",
      "\n",
      "Response from deepseek/deepseek-chat:\n",
      "['**Wings of the Sky**  \\n\\nUpon the breeze they dance so light,  \\nA flash of feathers, bold and bright.  \\nFrom treetops high to fields below,  \\nThey sing the songs the wild winds know.  \\n\\nThe robin greets the morning sun,  \\nIts crimson breast—a day begun.  \\nThe eagle soars on currents strong,  \\nA king of heights, both proud and long.  \\n\\nThe sparrow flits through tangled green,  \\nA humble life, yet bright and keen.  \\nThe swallow dips in evening’s glow,  \\nA fleeting shadow, swift and low.  \\n\\nOh, birds of earth and boundless air,  \\nYou weave your magic everywhere.  \\nWith every note and fleeting flight,  \\nYou turn the world to pure delight.']\n",
      "\n"
     ]
    }
   ],
   "source": [
    "llm_controller = LLMControllerDSPy()\n",
    "llm_controller.get_response(selected_model_names=[\"openai/gpt-4o-mini\", \"deepseek/deepseek-chat\"], prompt=prompt)"
   ]
  },
  {
   "cell_type": "code",
   "execution_count": null,
   "id": "07ceb545",
   "metadata": {},
   "outputs": [],
   "source": []
  }
 ],
 "metadata": {
  "kernelspec": {
   "display_name": "modelo",
   "language": "python",
   "name": "python3"
  },
  "language_info": {
   "codemirror_mode": {
    "name": "ipython",
    "version": 3
   },
   "file_extension": ".py",
   "mimetype": "text/x-python",
   "name": "python",
   "nbconvert_exporter": "python",
   "pygments_lexer": "ipython3",
   "version": "3.12.9"
  }
 },
 "nbformat": 4,
 "nbformat_minor": 5
}
