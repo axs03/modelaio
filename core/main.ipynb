{
 "cells": [
  {
   "cell_type": "code",
   "execution_count": 1,
   "id": "e97b22ff",
   "metadata": {},
   "outputs": [
    {
     "name": "stderr",
     "output_type": "stream",
     "text": [
      "/Users/amansahu/miniconda3/envs/modelo/lib/python3.12/site-packages/tqdm/auto.py:21: TqdmWarning: IProgress not found. Please update jupyter and ipywidgets. See https://ipywidgets.readthedocs.io/en/stable/user_install.html\n",
      "  from .autonotebook import tqdm as notebook_tqdm\n"
     ]
    }
   ],
   "source": [
    "from SimilarityModel import SimilarityModel\n",
    "from ResponseProcessor import ResponseProcessor\n",
    "from ModelControllers import LLMController"
   ]
  },
  {
   "cell_type": "code",
   "execution_count": 2,
   "id": "c35afb75",
   "metadata": {},
   "outputs": [
    {
     "name": "stdout",
     "output_type": "stream",
     "text": [
      "ChatGPT response: Two plus two equals four.  \n",
      "It's a simple arithmetic fact!\n",
      "DeepSeek response: Two plus two equals four.  \n",
      "Simple math, nothing more.\n"
     ]
    }
   ],
   "source": [
    "prompt = \"what is two plus two in 2 lines.\"\n",
    "\n",
    "# for ChatGPT\n",
    "oai = LLMController(provider=\"openai\")\n",
    "sent1 = oai.get_response(prompt)\n",
    "\n",
    "# for DeepSeek\n",
    "ds = LLMController(provider=\"deepseek\")\n",
    "sent2 = ds.get_response(prompt)\n",
    "\n",
    "print(\"ChatGPT response:\", sent1)\n",
    "print(\"DeepSeek response:\", sent2)"
   ]
  },
  {
   "cell_type": "code",
   "execution_count": 3,
   "id": "0fec7795",
   "metadata": {},
   "outputs": [
    {
     "name": "stdout",
     "output_type": "stream",
     "text": [
      "Model loaded successfully\n",
      "Cosine similarities:\n",
      "0.91537476\n"
     ]
    }
   ],
   "source": [
    "similarity_model = SimilarityModel()\n",
    "similarity_model.get_cosine_similarity(sentence1=sent1, sentence2=sent2)"
   ]
  },
  {
   "cell_type": "code",
   "execution_count": null,
   "id": "38a45c30",
   "metadata": {},
   "outputs": [],
   "source": []
  }
 ],
 "metadata": {
  "kernelspec": {
   "display_name": "modelo",
   "language": "python",
   "name": "python3"
  },
  "language_info": {
   "codemirror_mode": {
    "name": "ipython",
    "version": 3
   },
   "file_extension": ".py",
   "mimetype": "text/x-python",
   "name": "python",
   "nbconvert_exporter": "python",
   "pygments_lexer": "ipython3",
   "version": "3.12.9"
  }
 },
 "nbformat": 4,
 "nbformat_minor": 5
}
