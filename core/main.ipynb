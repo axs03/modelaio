{
 "cells": [
  {
   "cell_type": "code",
   "execution_count": 1,
   "id": "e97b22ff",
   "metadata": {},
   "outputs": [
    {
     "name": "stderr",
     "output_type": "stream",
     "text": [
      "/Users/amansahu/miniconda3/envs/modelo/lib/python3.12/site-packages/tqdm/auto.py:21: TqdmWarning: IProgress not found. Please update jupyter and ipywidgets. See https://ipywidgets.readthedocs.io/en/stable/user_install.html\n",
      "  from .autonotebook import tqdm as notebook_tqdm\n"
     ]
    }
   ],
   "source": [
    "from SimilarityModel import SimilarityModel\n",
    "from ResponseProcessor import ResponseProcessor\n",
    "from ModelControllers import LLMController"
   ]
  },
  {
   "cell_type": "code",
   "execution_count": 2,
   "id": "c35afb75",
   "metadata": {},
   "outputs": [
    {
     "name": "stdout",
     "output_type": "stream",
     "text": [
      "ChatGPT response: **Definition:** Binary numbers are a base-2 numeral system that uses only two symbols: 0 and 1. Each digit in a binary number is called a bit. Binary is the foundation of all modern computer systems, as it corresponds to the electrical states of hardware circuits, where 0 typically represents off and 1 represents on.\n",
      "\n",
      "**Example:** The binary number 1011 represents the decimal number 11. In binary, each position represents a power of 2, starting from the rightmost bit: \n",
      "- 1 (2^3) + 0 (2^2) + 1 (2^1) + 1 (2^0) = 8 + 0 + 2 + 1 = 11.\n",
      "DeepSeek response: **Definition:** Binary numbers are a base-2 numeral system, which means they only use two digits: 0 and 1. Each digit in a binary number represents a power of 2, much like each digit in a decimal number represents a power of 10.\n",
      "\n",
      "**Example:**  \n",
      "- The binary number `1011` can be converted to decimal as follows:  \n",
      "  - (1 × 2³) + (0 × 2²) + (1 × 2¹) + (1 × 2⁰)  \n",
      "  - (8) + (0) + (2) + (1) = **11** (in decimal).  \n",
      "\n",
      "Binary is fundamental in computing because it aligns with the two-state nature of electronic devices (e.g., on/off, true/false).\n"
     ]
    }
   ],
   "source": [
    "prompt = \"explain binary numbers.\"\n",
    "\n",
    "# for ChatGPT\n",
    "oai = LLMController(provider=\"openai\")\n",
    "sent1 = oai.get_response(prompt)\n",
    "\n",
    "# for DeepSeek\n",
    "ds = LLMController(provider=\"deepseek\")\n",
    "sent2 = ds.get_response(prompt)\n",
    "\n",
    "print(\"ChatGPT response:\", sent1)\n",
    "print(\"DeepSeek response:\", sent2)"
   ]
  },
  {
   "cell_type": "code",
   "execution_count": 3,
   "id": "0fec7795",
   "metadata": {},
   "outputs": [
    {
     "name": "stdout",
     "output_type": "stream",
     "text": [
      "Model loaded successfully..\n"
     ]
    },
    {
     "data": {
      "text/plain": [
       "0.92090225"
      ]
     },
     "execution_count": 3,
     "metadata": {},
     "output_type": "execute_result"
    }
   ],
   "source": [
    "similarity_model = SimilarityModel()\n",
    "similarity_model.get_cosine_similarity([sent1, sent2])"
   ]
  },
  {
   "cell_type": "code",
   "execution_count": null,
   "id": "38a45c30",
   "metadata": {},
   "outputs": [],
   "source": []
  }
 ],
 "metadata": {
  "kernelspec": {
   "display_name": "modelo",
   "language": "python",
   "name": "python3"
  },
  "language_info": {
   "codemirror_mode": {
    "name": "ipython",
    "version": 3
   },
   "file_extension": ".py",
   "mimetype": "text/x-python",
   "name": "python",
   "nbconvert_exporter": "python",
   "pygments_lexer": "ipython3",
   "version": "3.12.9"
  }
 },
 "nbformat": 4,
 "nbformat_minor": 5
}
