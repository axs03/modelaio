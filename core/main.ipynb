{
 "cells": [
  {
   "cell_type": "code",
   "execution_count": 1,
   "id": "e97b22ff",
   "metadata": {},
   "outputs": [
    {
     "name": "stderr",
     "output_type": "stream",
     "text": [
      "/Users/amansahu/miniconda3/envs/modelo/lib/python3.12/site-packages/tqdm/auto.py:21: TqdmWarning: IProgress not found. Please update jupyter and ipywidgets. See https://ipywidgets.readthedocs.io/en/stable/user_install.html\n",
      "  from .autonotebook import tqdm as notebook_tqdm\n"
     ]
    }
   ],
   "source": [
    "from gensim.models.doc2vec import TaggedDocument\n",
    "from SimilarityModel import SimilarityModel\n",
    "from ResponseProcessor import ResponseProcessor"
   ]
  },
  {
   "cell_type": "code",
   "execution_count": 2,
   "id": "0fec7795",
   "metadata": {},
   "outputs": [
    {
     "name": "stdout",
     "output_type": "stream",
     "text": [
      "Model loaded successfully\n",
      "Cosine similarities:\n",
      "0.91881543\n"
     ]
    }
   ],
   "source": [
    "similarity_model = SimilarityModel()\n",
    "similarity_model.get_cosine_similarity(sentence1=\"This is a test sentence.\", sentence2=\"This is another test sentence.\")"
   ]
  },
  {
   "cell_type": "code",
   "execution_count": 5,
   "id": "a3f256c4",
   "metadata": {},
   "outputs": [
    {
     "name": "stdout",
     "output_type": "stream",
     "text": [
      "[TaggedDocument(words=['A', 'binary', 'number', 'is', 'a', 'number', 'expressed', 'in', 'the', 'base-2', 'numeral', 'system,', 'using', 'only', 'the', 'symbols', '0', 'and', '1', 'to', 'represent', 'values.', 'Each', 'symbol', 'in', 'a', 'binary', 'number', 'is', 'called', 'a', 'bit,', 'short', 'for', '“binary', 'digit,”', 'and', 'serves', 'as', 'the', 'fundamental', 'unit', 'of', 'information', 'in', 'computing.', 'In', 'a', 'positional', 'notation,', 'each', 'bit’s', 'place', 'value', 'corresponds', 'to', 'an', 'increasing', 'power', 'of', 'two,', 'with', 'the', 'rightmost', 'bit', 'representing', '2⁰,', 'the', 'next', 'representing', '2¹,', 'and', 'so', 'on.', 'Binary', 'numerals', 'may', 'include', 'a', 'radix', 'point', '(analogous', 'to', 'a', 'decimal', 'point)', 'to', 'represent', 'fractions,', 'where', 'positions', 'to', 'the', 'right', 'represent', 'negative', 'powers', 'of', 'two.', 'The', 'term', '“binary', 'number”', 'can', 'also', 'refer', 'to', 'dyadic', 'rationals—fractions', 'whose', 'denominator', 'is', 'a', 'power', 'of', 'two—that', 'have', 'finite', 'representations', 'in', 'base-2.'], tags=['resp_chgpt_Definition']), TaggedDocument(words=['Binary', 'numbers', 'are', 'the', 'backbone', 'of', 'all', 'modern', 'digital', 'electronics', 'and', 'computing', 'systems', 'because', 'physical', 'circuits', 'naturally', 'support', 'two', 'distinct', 'states', '(e.g.,', 'on/off,', 'high/low', 'voltage),', 'corresponding', 'directly', 'to', '1', 'and', '0.', 'In', 'computer', 'processors,', 'binary', 'code', 'encodes', 'both', 'data', 'and', 'instructions,', 'enabling', 'arithmetic', 'and', 'logical', 'operations', 'via', 'simple', 'logic', 'gates', 'that', 'perform', 'bitwise', 'operations', 'like', 'AND,', 'OR,', 'XOR,', 'and', 'NOT.', 'Bitwise', 'operations', 'manipulate', 'individual', 'bits', 'within', 'binary', 'words', 'to', 'optimize', 'computations', 'such', 'as', 'masking,', 'shifting,', 'and', 'flag', 'testing.', 'Programmers', 'often', 'denote', 'binary', 'literals', 'in', 'source', 'code', 'with', 'prefixes', '(e.g.,', '0b1010)', 'or', 'suffixes', '(e.g.,', '1010b)', 'to', 'distinguish', 'them', 'from', 'decimal', 'constants.', 'The', 'inherent', 'simplicity', 'and', 'noise', 'immunity', 'of', 'two-state', 'systems', 'make', 'binary', 'representation', 'far', 'more', 'reliable', 'and', 'efficient', 'for', 'hardware', 'implementation', 'than', 'higher-radix', 'systems.'], tags=['resp_chgpt_About']), TaggedDocument(words=['Binary', 'numbers', 'form', 'the', 'foundation', 'of', 'digital', 'systems,', 'using', 'a', 'base-2', 'numeral', 'system', 'composed', 'of', 'only', 'two', 'digits:', '0', 'and', '1.', 'Each', 'digit,', 'called', 'a', 'bit,', 'represents', 'a', 'power', 'of', '2,', 'with', 'positions', 'increasing', 'from', 'right', 'to', 'left', '(e.g.,', '2⁰,', '2¹,', '2²).', 'For', 'example,', 'the', 'binary', 'number', '101', 'translates', 'to', '5', 'in', 'decimal', '(1×2²', '+', '0×2¹', '+', '1×2⁰).', 'This', 'system', 'contrasts', 'with', 'the', 'decimal', 'system', '(base-10),', 'which', 'uses', 'digits', '0-9', 'and', 'powers', 'of', '10.', 'Binary’s', 'simplicity', 'aligns', 'with', 'electronic', 'hardware,', 'where', '0', 'and', '1', 'correspond', 'to', '“off”', 'and', '“on”', 'states', 'in', 'circuits.'], tags=['resp_dpsk_Definition']), TaggedDocument(words=['Binary', 'numbers', 'are', 'integral', 'to', 'computing,', 'enabling', 'data', 'storage,', 'processing,', 'and', 'communication.', 'Computers', 'use', 'binary', 'to', 'represent', 'all', 'information—text,', 'images,', 'and', 'instructions—as', 'sequences', 'of', 'bits.', 'Logical', 'operations', '(AND,', 'OR,', 'NOT)', 'and', 'arithmetic', 'are', 'performed', 'using', 'binary-based', 'logic', 'gates', 'within', 'processors.', 'Networks', 'and', 'storage', 'devices', 'also', 'rely', 'on', 'binary,', 'transmitting', 'or', 'saving', 'data', 'as', 'encoded', '0s', 'and', '1s.', 'Despite', 'their', 'efficiency', 'for', 'machines,', 'binary', 'is', 'rarely', 'used', 'directly', 'by', 'humans,', 'who', 'interact', 'with', 'higher-level', 'abstractions', 'like', 'programming', 'languages', 'or', 'user', 'interfaces.'], tags=['resp_dpsk_About'])]\n"
     ]
    }
   ],
   "source": [
    "response_processor = ResponseProcessor(file_paths=[\"tests/resp_chgpt.txt\", \"tests/resp_dpsk.txt\"])\n",
    "docs = response_processor.vectorize_chunks()\n",
    "print(docs)"
   ]
  },
  {
   "cell_type": "code",
   "execution_count": null,
   "id": "c157766a",
   "metadata": {},
   "outputs": [
    {
     "name": "stdout",
     "output_type": "stream",
     "text": [
      "Comparing documents for heading: Definition\n",
      "Cosine similarities:\n",
      "0.865579\n",
      "----------------------------------------\n",
      "Comparing documents for heading: About\n",
      "Cosine similarities:\n",
      "0.82168484\n",
      "----------------------------------------\n"
     ]
    }
   ],
   "source": []
  },
  {
   "cell_type": "markdown",
   "id": "e0fdda0a",
   "metadata": {},
   "source": [
    "## TESTS\n"
   ]
  }
 ],
 "metadata": {
  "kernelspec": {
   "display_name": "modelo",
   "language": "python",
   "name": "python3"
  },
  "language_info": {
   "codemirror_mode": {
    "name": "ipython",
    "version": 3
   },
   "file_extension": ".py",
   "mimetype": "text/x-python",
   "name": "python",
   "nbconvert_exporter": "python",
   "pygments_lexer": "ipython3",
   "version": "3.12.9"
  }
 },
 "nbformat": 4,
 "nbformat_minor": 5
}
