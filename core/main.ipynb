{
 "cells": [
  {
   "cell_type": "code",
   "execution_count": null,
   "id": "e97b22ff",
   "metadata": {},
   "outputs": [],
   "source": [
    "from SimilarityModel import SimilarityModel\n",
    "from ResponseProcessor import ResponseProcessor\n",
    "from ModelControllers import LLMController"
   ]
  },
  {
   "cell_type": "code",
   "execution_count": 5,
   "id": "c35afb75",
   "metadata": {},
   "outputs": [
    {
     "name": "stdout",
     "output_type": "stream",
     "text": [
      "ChatGPT response: Lionel Messi, born on June 24, 1987, in Rosario, Argentina, is widely regarded as one of the greatest soccer players of all time. From a young age, he displayed exceptional talent in soccer, joining the Newell's Old Boys youth team. However, at the age of 13, he moved to Spain to join FC Barcelona's famed La Masia academy, where the club agreed to pay for his medical treatments for a growth hormone deficiency. Messi's dedication and skill rapidly elevated him through the ranks, making his first-team debut at just 17 years old.\n",
      "\n",
      "During his illustrious career at Barcelona, Messi broke numerous records, establishing himself as the club's all-time top scorer and winning an astonishing seven Ballon d'Or awards, recognizing him as the best player in the world. His playing style, characterized by exceptional dribbling, precise passing, and lethal finishing, helped Barcelona secure numerous titles, including ten La Liga championships and four UEFA Champions League trophies. Messi formed a formidable attacking partnership with fellow forwards, including Samuel Eto'o and later Neymar and Luis Suárez, contributing to one of the most successful eras in football history.\n",
      "\n",
      "In 2021, after more than two decades with Barcelona, Messi faced an emotional departure due to the club's financial difficulties and constraints imposed by La Liga regulations. He subsequently signed with Paris Saint-Germain (PSG), where he continued to show his exceptional talent on the field. In addition to his club success, Messi has also had a prolific international career with the Argentine national team, winning the Copa America in 2021 and the FIFA World Cup in 2022. His impact on the sport transcends statistics, as Messi's humble demeanor and sportsmanship have made him an inspiration to aspiring athletes worldwide, solidifying his legacy in the pantheon of football greats.\n",
      "DeepSeek response: Lionel Messi, born on June 24, 1987, in Rosario, Argentina, is widely regarded as one of the greatest soccer players of all time. He began his career at Newell’s Old Boys before joining FC Barcelona’s famed La Masia youth academy at age 13. Messi made his first-team debut for Barcelona in 2004 and quickly became a global superstar, known for his incredible dribbling, vision, and goal-scoring ability. Despite being diagnosed with a growth hormone deficiency as a child, his talent and determination propelled him to the pinnacle of the sport.  \n",
      "\n",
      "During his 17-year tenure with Barcelona, Messi won an astonishing 35 trophies, including 10 La Liga titles and 4 UEFA Champions League titles. He broke numerous records, such as becoming Barcelona’s all-time top scorer and the player with the most goals in a single calendar year (91 in 2012). Messi also claimed a record seven Ballon d’Or awards as the world’s best player. His partnership with teammates like Xavi and Andrés Iniesta defined an era of dominance for Barcelona, with their tiki-taka style mesmerizing fans worldwide.  \n",
      "\n",
      "In 2021, financial difficulties forced Messi to leave Barcelona, and he joined Paris Saint-Germain (PSG) before moving to Inter Miami in Major League Soccer (MLS) in 2023. Internationally, he led Argentina to victory in the 2021 Copa América and the 2022 FIFA World Cup, cementing his legacy as one of the sport’s greatest icons. Known for his humility and sportsmanship, Messi remains an inspiration to millions, proving that greatness is achieved through both talent and relentless dedication.\n"
     ]
    }
   ],
   "source": [
    "prompt = \"Tell me about the soccer player Lionel Messi in 3 paragraphs.\"\n",
    "\n",
    "# for ChatGPT\n",
    "oai = LLMController(provider=\"openai\")\n",
    "sent1 = oai.get_response(prompt)\n",
    "\n",
    "# for DeepSeek\n",
    "ds = LLMController(provider=\"deepseek\")\n",
    "sent2 = ds.get_response(prompt)\n",
    "\n",
    "print(\"ChatGPT response:\", sent1)\n",
    "print(\"DeepSeek response:\", sent2)"
   ]
  },
  {
   "cell_type": "code",
   "execution_count": 6,
   "id": "0fec7795",
   "metadata": {},
   "outputs": [
    {
     "name": "stdout",
     "output_type": "stream",
     "text": [
      "Model loaded successfully\n",
      "Cosine similarities:\n",
      "0.9692099\n"
     ]
    }
   ],
   "source": [
    "similarity_model = SimilarityModel()\n",
    "similarity_model.get_cosine_similarity(sentence1=sent1, sentence2=sent2)"
   ]
  },
  {
   "cell_type": "code",
   "execution_count": null,
   "id": "38a45c30",
   "metadata": {},
   "outputs": [],
   "source": []
  }
 ],
 "metadata": {
  "kernelspec": {
   "display_name": "modelo",
   "language": "python",
   "name": "python3"
  },
  "language_info": {
   "codemirror_mode": {
    "name": "ipython",
    "version": 3
   },
   "file_extension": ".py",
   "mimetype": "text/x-python",
   "name": "python",
   "nbconvert_exporter": "python",
   "pygments_lexer": "ipython3",
   "version": "3.12.9"
  }
 },
 "nbformat": 4,
 "nbformat_minor": 5
}
