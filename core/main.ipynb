{
 "cells": [
  {
   "cell_type": "code",
   "execution_count": null,
   "id": "e97b22ff",
   "metadata": {},
   "outputs": [],
   "source": [
    "from SimilarityModel import SimilarityModel\n",
    "from ModelControllers import LLMController"
   ]
  },
  {
   "cell_type": "code",
   "execution_count": 9,
   "id": "488ccad4",
   "metadata": {},
   "outputs": [],
   "source": [
    "prompt = \"write a poem about birds.\""
   ]
  }
 ],
 "metadata": {
  "kernelspec": {
   "display_name": "modelo",
   "language": "python",
   "name": "python3"
  },
  "language_info": {
   "codemirror_mode": {
    "name": "ipython",
    "version": 3
   },
   "file_extension": ".py",
   "mimetype": "text/x-python",
   "name": "python",
   "nbconvert_exporter": "python",
   "pygments_lexer": "ipython3",
   "version": "3.12.9"
  }
 },
 "nbformat": 4,
 "nbformat_minor": 5
}
